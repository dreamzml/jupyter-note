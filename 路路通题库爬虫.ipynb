{
  "nbformat": 4,
  "nbformat_minor": 0,
  "metadata": {
    "colab": {
      "name": "路路通题库爬虫.ipynb",
      "provenance": [],
      "collapsed_sections": [],
      "authorship_tag": "ABX9TyOMenl+hWub6sTW374n5w2M",
      "include_colab_link": true
    },
    "kernelspec": {
      "name": "python3",
      "display_name": "Python 3"
    },
    "language_info": {
      "name": "python"
    }
  },
  "cells": [
    {
      "cell_type": "markdown",
      "metadata": {
        "id": "view-in-github",
        "colab_type": "text"
      },
      "source": [
        "<a href=\"https://colab.research.google.com/github/dreamzml/jupyter-note/blob/master/%E8%B7%AF%E8%B7%AF%E9%80%9A%E9%A2%98%E5%BA%93%E7%88%AC%E8%99%AB.ipynb\" target=\"_parent\"><img src=\"https://colab.research.google.com/assets/colab-badge.svg\" alt=\"Open In Colab\"/></a>"
      ]
    },
    {
      "cell_type": "code",
      "execution_count": null,
      "metadata": {
        "id": "ANoUhEqi5R4D"
      },
      "outputs": [],
      "source": [
        "import requests\n",
        "from bs4 import    BeautifulSoup\n",
        "import numpy as nu\n",
        "import pandas as pd"
      ]
    },
    {
      "cell_type": "code",
      "source": [
        "url = 'http://ks.lltskb.com/show.asp?id=1937'\n",
        "strhtml = requests.get(url)\n",
        "strhtml.encoding = \"gbk\""
      ],
      "metadata": {
        "id": "nLRRIFA-5Xwl"
      },
      "execution_count": null,
      "outputs": []
    },
    {
      "cell_type": "code",
      "source": [
        "soup=BeautifulSoup(strhtml.text)\n",
        "data = soup.select('table.TableBody table td')"
      ],
      "metadata": {
        "id": "kchDiPVi577f"
      },
      "execution_count": null,
      "outputs": []
    },
    {
      "cell_type": "code",
      "source": [
        "datalist = data[0].get_text(\"<br/>\", strip=True).split(\"<br/>\")"
      ],
      "metadata": {
        "id": "RiUICIvCZBW9"
      },
      "execution_count": null,
      "outputs": []
    },
    {
      "cell_type": "code",
      "source": [
        "datas = nu.array(datalist)\n",
        "lists = datas.reshape(-1,7)"
      ],
      "metadata": {
        "id": "nzZRw-9Gf16r"
      },
      "execution_count": null,
      "outputs": []
    },
    {
      "cell_type": "code",
      "source": [
        "listsD = [ [x[0].strip('0123456789.'), x[1], {\n",
        "    x[2].split('.')[0]:x[2].split('.')[1], \n",
        "    x[3].split('.')[0]:x[3].split('.')[1], \n",
        "    x[4].split('.')[0]:x[4].split('.')[1],\n",
        "    x[5].split('.')[0]:x[5].split('.')[1], \n",
        "    x[6].split('.')[0]:x[6].split('.')[1] } ]  for x in lists]"
      ],
      "metadata": {
        "id": "jpms5uxEhHPn"
      },
      "execution_count": null,
      "outputs": []
    },
    {
      "cell_type": "code",
      "source": [
        "listsData = pd.DataFrame(listsD, columns=('题目','答案','选项'))"
      ],
      "metadata": {
        "id": "zH5betOZh-6f"
      },
      "execution_count": null,
      "outputs": []
    },
    {
      "cell_type": "code",
      "source": [
        "#pd.set_option('display.max_rows', None)\n",
        "listsData.head()"
      ],
      "metadata": {
        "colab": {
          "base_uri": "https://localhost:8080/",
          "height": 206
        },
        "id": "3atHKxJFjz_x",
        "outputId": "fda5a1a6-ab1f-45a8-b5f3-a469eda9c2dc"
      },
      "execution_count": null,
      "outputs": [
        {
          "output_type": "execute_result",
          "data": {
            "text/html": [
              "\n",
              "  <div id=\"df-b2f005f1-99e1-488f-90e2-7841e4a98967\">\n",
              "    <div class=\"colab-df-container\">\n",
              "      <div>\n",
              "<style scoped>\n",
              "    .dataframe tbody tr th:only-of-type {\n",
              "        vertical-align: middle;\n",
              "    }\n",
              "\n",
              "    .dataframe tbody tr th {\n",
              "        vertical-align: top;\n",
              "    }\n",
              "\n",
              "    .dataframe thead th {\n",
              "        text-align: right;\n",
              "    }\n",
              "</style>\n",
              "<table border=\"1\" class=\"dataframe\">\n",
              "  <thead>\n",
              "    <tr style=\"text-align: right;\">\n",
              "      <th></th>\n",
              "      <th>题目</th>\n",
              "      <th>答案</th>\n",
              "      <th>选项</th>\n",
              "    </tr>\n",
              "  </thead>\n",
              "  <tbody>\n",
              "    <tr>\n",
              "      <th>0</th>\n",
              "      <td>听见患者带金属音的咳嗽时应警惕</td>\n",
              "      <td>C</td>\n",
              "      <td>{'A': '喉炎', 'B': '肺脓肿', 'C': '肺癌', 'D': '哮喘', ...</td>\n",
              "    </tr>\n",
              "    <tr>\n",
              "      <th>1</th>\n",
              "      <td>痰液有恶臭味，应考虑感染的病原菌是</td>\n",
              "      <td>C</td>\n",
              "      <td>{'A': '肺炎链球菌', 'B': '铜绿假单胞菌', 'C': '厌氧菌', 'D':...</td>\n",
              "    </tr>\n",
              "    <tr>\n",
              "      <th>2</th>\n",
              "      <td>呼气性呼吸困难的发生机制是</td>\n",
              "      <td>E</td>\n",
              "      <td>{'A': '大气道狭窄梗阻', 'B': '广泛性肺部病变使呼吸面积减少', 'C': '...</td>\n",
              "    </tr>\n",
              "    <tr>\n",
              "      <th>3</th>\n",
              "      <td>慢性肺心病的主要病因是</td>\n",
              "      <td>A</td>\n",
              "      <td>{'A': '慢支并发阻塞性肺气肿', 'B': '支气管哮喘', 'C': '支气管扩张'...</td>\n",
              "    </tr>\n",
              "    <tr>\n",
              "      <th>4</th>\n",
              "      <td>肺气肿发生气流受阻的病因是</td>\n",
              "      <td>B</td>\n",
              "      <td>{'A': '大气道狭窄', 'B': '小气道病变', 'C': '通气/血流比例失调',...</td>\n",
              "    </tr>\n",
              "  </tbody>\n",
              "</table>\n",
              "</div>\n",
              "      <button class=\"colab-df-convert\" onclick=\"convertToInteractive('df-b2f005f1-99e1-488f-90e2-7841e4a98967')\"\n",
              "              title=\"Convert this dataframe to an interactive table.\"\n",
              "              style=\"display:none;\">\n",
              "        \n",
              "  <svg xmlns=\"http://www.w3.org/2000/svg\" height=\"24px\"viewBox=\"0 0 24 24\"\n",
              "       width=\"24px\">\n",
              "    <path d=\"M0 0h24v24H0V0z\" fill=\"none\"/>\n",
              "    <path d=\"M18.56 5.44l.94 2.06.94-2.06 2.06-.94-2.06-.94-.94-2.06-.94 2.06-2.06.94zm-11 1L8.5 8.5l.94-2.06 2.06-.94-2.06-.94L8.5 2.5l-.94 2.06-2.06.94zm10 10l.94 2.06.94-2.06 2.06-.94-2.06-.94-.94-2.06-.94 2.06-2.06.94z\"/><path d=\"M17.41 7.96l-1.37-1.37c-.4-.4-.92-.59-1.43-.59-.52 0-1.04.2-1.43.59L10.3 9.45l-7.72 7.72c-.78.78-.78 2.05 0 2.83L4 21.41c.39.39.9.59 1.41.59.51 0 1.02-.2 1.41-.59l7.78-7.78 2.81-2.81c.8-.78.8-2.07 0-2.86zM5.41 20L4 18.59l7.72-7.72 1.47 1.35L5.41 20z\"/>\n",
              "  </svg>\n",
              "      </button>\n",
              "      \n",
              "  <style>\n",
              "    .colab-df-container {\n",
              "      display:flex;\n",
              "      flex-wrap:wrap;\n",
              "      gap: 12px;\n",
              "    }\n",
              "\n",
              "    .colab-df-convert {\n",
              "      background-color: #E8F0FE;\n",
              "      border: none;\n",
              "      border-radius: 50%;\n",
              "      cursor: pointer;\n",
              "      display: none;\n",
              "      fill: #1967D2;\n",
              "      height: 32px;\n",
              "      padding: 0 0 0 0;\n",
              "      width: 32px;\n",
              "    }\n",
              "\n",
              "    .colab-df-convert:hover {\n",
              "      background-color: #E2EBFA;\n",
              "      box-shadow: 0px 1px 2px rgba(60, 64, 67, 0.3), 0px 1px 3px 1px rgba(60, 64, 67, 0.15);\n",
              "      fill: #174EA6;\n",
              "    }\n",
              "\n",
              "    [theme=dark] .colab-df-convert {\n",
              "      background-color: #3B4455;\n",
              "      fill: #D2E3FC;\n",
              "    }\n",
              "\n",
              "    [theme=dark] .colab-df-convert:hover {\n",
              "      background-color: #434B5C;\n",
              "      box-shadow: 0px 1px 3px 1px rgba(0, 0, 0, 0.15);\n",
              "      filter: drop-shadow(0px 1px 2px rgba(0, 0, 0, 0.3));\n",
              "      fill: #FFFFFF;\n",
              "    }\n",
              "  </style>\n",
              "\n",
              "      <script>\n",
              "        const buttonEl =\n",
              "          document.querySelector('#df-b2f005f1-99e1-488f-90e2-7841e4a98967 button.colab-df-convert');\n",
              "        buttonEl.style.display =\n",
              "          google.colab.kernel.accessAllowed ? 'block' : 'none';\n",
              "\n",
              "        async function convertToInteractive(key) {\n",
              "          const element = document.querySelector('#df-b2f005f1-99e1-488f-90e2-7841e4a98967');\n",
              "          const dataTable =\n",
              "            await google.colab.kernel.invokeFunction('convertToInteractive',\n",
              "                                                     [key], {});\n",
              "          if (!dataTable) return;\n",
              "\n",
              "          const docLinkHtml = 'Like what you see? Visit the ' +\n",
              "            '<a target=\"_blank\" href=https://colab.research.google.com/notebooks/data_table.ipynb>data table notebook</a>'\n",
              "            + ' to learn more about interactive tables.';\n",
              "          element.innerHTML = '';\n",
              "          dataTable['output_type'] = 'display_data';\n",
              "          await google.colab.output.renderOutput(dataTable, element);\n",
              "          const docLink = document.createElement('div');\n",
              "          docLink.innerHTML = docLinkHtml;\n",
              "          element.appendChild(docLink);\n",
              "        }\n",
              "      </script>\n",
              "    </div>\n",
              "  </div>\n",
              "  "
            ],
            "text/plain": [
              "                  题目 答案                                                 选项\n",
              "0    听见患者带金属音的咳嗽时应警惕  C  {'A': '喉炎', 'B': '肺脓肿', 'C': '肺癌', 'D': '哮喘', ...\n",
              "1  痰液有恶臭味，应考虑感染的病原菌是  C  {'A': '肺炎链球菌', 'B': '铜绿假单胞菌', 'C': '厌氧菌', 'D':...\n",
              "2      呼气性呼吸困难的发生机制是  E  {'A': '大气道狭窄梗阻', 'B': '广泛性肺部病变使呼吸面积减少', 'C': '...\n",
              "3        慢性肺心病的主要病因是  A  {'A': '慢支并发阻塞性肺气肿', 'B': '支气管哮喘', 'C': '支气管扩张'...\n",
              "4      肺气肿发生气流受阻的病因是  B  {'A': '大气道狭窄', 'B': '小气道病变', 'C': '通气/血流比例失调',..."
            ]
          },
          "metadata": {},
          "execution_count": 34
        }
      ]
    },
    {
      "cell_type": "code",
      "source": [
        ""
      ],
      "metadata": {
        "id": "Dy2U-kn1mQN0"
      },
      "execution_count": null,
      "outputs": []
    }
  ]
}